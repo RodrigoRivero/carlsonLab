{
 "cells": [
  {
   "cell_type": "code",
   "execution_count": 1,
   "metadata": {},
   "outputs": [],
   "source": [
    "import os.path\n",
    "import glob\n",
    "import math\n",
    "import pandas as pd\n",
    "import numpy as np\n",
    "import datascience"
   ]
  },
  {
   "cell_type": "code",
   "execution_count": 2,
   "metadata": {},
   "outputs": [],
   "source": [
    "# Function Definitions\n",
    "\n",
    "# MODIS State QA\n",
    "\n",
    "def isLand(bits):\n",
    "    return (bits & 0x0038) == 0x0008\n",
    "    \n",
    "def isnotCloudMOD(bits):\n",
    "    return (bits & 0x0003) == 0\n",
    "    \n",
    "def isnotShadowMOD(bits):\n",
    "    return (bits & 0x0004) == 0\n",
    "    \n",
    "def isAeroLow(bits):\n",
    "    return (bits & 0x00c0) == 0x0040\n",
    "\n",
    "def isnotCirrus(bits):\n",
    "    return (bits & 0x0300) == 0\n",
    "\n",
    "def isnotCloudINT(bits):\n",
    "    return (bits & 0x0400) == 0\n",
    "\n",
    "def isnotAdjCloud(bits):\n",
    "    return (bits & 0x2000) == 0\n",
    "\n",
    "def isnotSnowMOD(bits):\n",
    "    return (bits & 0x8000) == 0\n",
    "\n",
    "def isnotSnowINT(bits):\n",
    "    return (bits & 0x1000) == 0\n",
    "\n",
    "#make a new coulmn in CSV with the 1 or 0, and that will tell me whether to include that row/pixel \n",
    "def stateQAtest(QA):\n",
    "    return [(isLand(QA))&\n",
    "            (isnotCloudMOD(QA))]"
   ]
  },
  {
   "cell_type": "code",
   "execution_count": 3,
   "metadata": {},
   "outputs": [],
   "source": [
    "# CONSTANTS / CONFIGURABLE VALUES\n",
    "\n",
    "# Directory to scan for CSV files and save output TXT\n",
    "root = \"/Volumes/SD/radCats\""
   ]
  },
  {
   "cell_type": "code",
   "execution_count": 4,
   "metadata": {},
   "outputs": [
    {
     "name": "stdout",
     "output_type": "stream",
     "text": [
      "Files:  4469\n"
     ]
    }
   ],
   "source": [
    "# Find all CSV files including inside sub-directories csvFiles = glob.glob(os.path.join(root, \"**/*.czs\"))\n",
    "csvFiles = glob.glob(os.path.join(root, \"**\", \"*.csv\"), recursive=True)\n",
    "print(\"Files: \", len(csvFiles))"
   ]
  },
  {
   "cell_type": "code",
   "execution_count": 5,
   "metadata": {},
   "outputs": [],
   "source": [
    "# Loop over every CSV file found\n",
    "for csvFile in csvFiles:\n",
    "    import csv \n",
    "    with open(csvFile, \"r\") as f: \n",
    "        modisFile = list(csv.reader(f, delimiter = ','))\n",
    "    #Creates an array of the stateQA values\n",
    "    modisArray = np.array(modisFile[0:], dtype=None)\n",
    "    qaArray = modisArray[:,3].astype(np.uint16, copy=False)\n",
    "    dataStateQA = stateQAtest(qaArray)\n",
    "#re-shapes the numpy array of QA test results to be in a column, not a list like a row\n",
    "    reshapeData = np.reshape(dataStateQA, (24,1))\n",
    "    csv_data = pd.DataFrame(reshapeData)\n",
    " #Creates a pandas dataframe from the MODIS csv   \n",
    "    pandaModisFile = pd.DataFrame(modisFile)\n",
    "    #concatenates the State QA test results and the original data into one dataframe\n",
    "    appendQA = pd.concat([pandaModisFile,csv_data],axis=1, ignore_index=True)\n",
    "    #print(appendQA)   \n",
    "    #np.savetxt(csvFile, reshapeData, delimiter=\",\")   \n",
    "#Uncomment to write to file\n",
    "    appendQA.to_csv(csvFile, header=None, index=None)\n",
    "   \n",
    "    #break # Remove this to make it run for all files, not just the first"
   ]
  },
  {
   "cell_type": "code",
   "execution_count": 6,
   "metadata": {},
   "outputs": [],
   "source": [
    "root = \"/Volumes/SD/radCats\""
   ]
  },
  {
   "cell_type": "code",
   "execution_count": 7,
   "metadata": {},
   "outputs": [
    {
     "name": "stdout",
     "output_type": "stream",
     "text": [
      "Files:  4469\n"
     ]
    }
   ],
   "source": [
    "csvFilesQA = glob.glob(os.path.join(root, \"**\", \"*.csv\"), recursive=True)\n",
    "print(\"Files: \", len(csvFilesQA))"
   ]
  },
  {
   "cell_type": "code",
   "execution_count": 8,
   "metadata": {},
   "outputs": [],
   "source": [
    "for csvFileQA in csvFilesQA:\n",
    "    import csv\n",
    "    with open(csvFileQA, \"r\") as f: \n",
    "        modisFileQA = list(csv.reader(f, delimiter = ','))\n",
    "  #creates a pandas dataframe of the modis CSV+QA results  \n",
    "    pandaPixels = pd.DataFrame(modisFileQA)\n",
    "#indexes the pd dataframe to exclude non-numeric series, and changes the datatype to numeric\n",
    "    studySitePixels = pandaPixels.loc[[9,10,11,14,15,16,19,20,21],3:17].reset_index(drop=True).apply(pd.to_numeric)\n",
    "    #Isolates the state QA result series\n",
    "    studySitePixelsQAresult = pandaPixels.loc[[9,10,11,14,15,16,19,20,21],18:]\n",
    "    #studySitePixelsAll = pandaPixels.loc[[9,10,11,14,15,16,19,20,21], : ]\n",
    "    \n",
    "#runs summary statistics on the desired pixels in the study site\n",
    "    summaryStats = studySitePixels.describe().loc[['mean','min','max','std']]\n",
    "  \n",
    "    ##concatenates the summary stat results with the original data\n",
    "    appSummaryStats = pd.concat([pandaPixels, summaryStats]).reset_index(drop=True)\n",
    "    \n",
    "    #makes sure that the file name coulmn is filled out all the way\n",
    "    headerCol = appSummaryStats.loc[:,0]\n",
    "    fileName = pandaPixels.loc[0,0]\n",
    "    filled = headerCol.fillna(fileName)\n",
    "    \n",
    "    bodyValues = appSummaryStats.loc[:,1:]\n",
    "    completeStats = pd.concat([filled, bodyValues], axis=1)\n",
    "    \n",
    "    #completeStats.to_csv(csvFileQA, header=False)\n",
    "    #print(completeStats)\n",
    "    \n",
    "    #qaSummary = studySitePixelsQAresult.all()\n",
    "    \n",
    "    #if qaSummary.all() == 1:\n",
    "    completeStats.to_csv(csvFileQA, header=None, index=None)\n",
    "   # else: \n",
    "     #   pandaPixels.to_csv(csvFileQA, header=None, index=None)\n",
    "      #  print(studySitePixelsQAresult.all()) \n",
    " \n"
   ]
  },
  {
   "cell_type": "code",
   "execution_count": 18,
   "metadata": {},
   "outputs": [],
   "source": [
    "root = \"/Volumes/SD/radCalNet/test\""
   ]
  },
  {
   "cell_type": "code",
   "execution_count": 19,
   "metadata": {},
   "outputs": [
    {
     "name": "stdout",
     "output_type": "stream",
     "text": [
      "Files:  2\n"
     ]
    }
   ],
   "source": [
    "csvFilesStat = glob.glob(os.path.join(root, \"**\", \"*.csv\"), recursive=True)\n",
    "print(\"Files: \", len(csvFilesStat))"
   ]
  },
  {
   "cell_type": "code",
   "execution_count": 44,
   "metadata": {},
   "outputs": [],
   "source": [
    "for csvFileStat in csvFilesStat:\n",
    "    import csv\n",
    "    with open(csvFileStat, \"r\") as f: \n",
    "        modisFileStat = list(csv.reader(f, delimiter = ','))\n",
    "  #creates a pandas dataframe of the modis CSV+QA results+summaryStats  \n",
    "    pandaPixels = pd.DataFrame(modisFileStat)\n",
    "    meanPixels = pandaPixels.loc[[24],0:]\n",
    "    minPixels = pandaPixels.loc[[25],0:]\n",
    "    maxPixels = pandaPixels.loc[[26],0:]\n",
    "    \n",
    "    mean = pd.DataFrame(data=None)\n",
    "    \n",
    "    meanCSV = pd.concat([mean,meanPixels])\n",
    "    \n",
    "    "
   ]
  },
  {
   "cell_type": "code",
   "execution_count": 45,
   "metadata": {},
   "outputs": [
    {
     "data": {
      "text/html": [
       "<div>\n",
       "<style scoped>\n",
       "    .dataframe tbody tr th:only-of-type {\n",
       "        vertical-align: middle;\n",
       "    }\n",
       "\n",
       "    .dataframe tbody tr th {\n",
       "        vertical-align: top;\n",
       "    }\n",
       "\n",
       "    .dataframe thead th {\n",
       "        text-align: right;\n",
       "    }\n",
       "</style>\n",
       "<table border=\"1\" class=\"dataframe\">\n",
       "  <thead>\n",
       "    <tr style=\"text-align: right;\">\n",
       "      <th></th>\n",
       "      <th>0</th>\n",
       "      <th>1</th>\n",
       "      <th>2</th>\n",
       "      <th>3</th>\n",
       "      <th>4</th>\n",
       "      <th>5</th>\n",
       "      <th>6</th>\n",
       "      <th>7</th>\n",
       "      <th>8</th>\n",
       "      <th>9</th>\n",
       "      <th>10</th>\n",
       "      <th>11</th>\n",
       "      <th>12</th>\n",
       "      <th>13</th>\n",
       "      <th>14</th>\n",
       "      <th>15</th>\n",
       "      <th>16</th>\n",
       "      <th>17</th>\n",
       "      <th>18</th>\n",
       "    </tr>\n",
       "  </thead>\n",
       "  <tbody>\n",
       "    <tr>\n",
       "      <th>24</th>\n",
       "      <td>MYD09GA.A2018059.h08v05.006.2018061030252</td>\n",
       "      <td></td>\n",
       "      <td></td>\n",
       "      <td>9302.222222222223</td>\n",
       "      <td>4464.222222222223</td>\n",
       "      <td>7507.111111111111</td>\n",
       "      <td>4674.222222222223</td>\n",
       "      <td>-17002.11111111111</td>\n",
       "      <td>3002.5555555555557</td>\n",
       "      <td>3445.3333333333335</td>\n",
       "      <td>1579.6666666666667</td>\n",
       "      <td>2569.0</td>\n",
       "      <td>3429.222222222222</td>\n",
       "      <td>-3407.777777777778</td>\n",
       "      <td>3356.222222222222</td>\n",
       "      <td>0.06866219633333334</td>\n",
       "      <td>0.025556973111111117</td>\n",
       "      <td>0.053590220888888894</td>\n",
       "      <td></td>\n",
       "    </tr>\n",
       "  </tbody>\n",
       "</table>\n",
       "</div>"
      ],
      "text/plain": [
       "                                           0  1  2                  3   \\\n",
       "24  MYD09GA.A2018059.h08v05.006.2018061030252        9302.222222222223   \n",
       "\n",
       "                   4                  5                  6   \\\n",
       "24  4464.222222222223  7507.111111111111  4674.222222222223   \n",
       "\n",
       "                    7                   8                   9   \\\n",
       "24  -17002.11111111111  3002.5555555555557  3445.3333333333335   \n",
       "\n",
       "                    10      11                 12                  13  \\\n",
       "24  1579.6666666666667  2569.0  3429.222222222222  -3407.777777777778   \n",
       "\n",
       "                   14                   15                    16  \\\n",
       "24  3356.222222222222  0.06866219633333334  0.025556973111111117   \n",
       "\n",
       "                      17 18  \n",
       "24  0.053590220888888894     "
      ]
     },
     "execution_count": 45,
     "metadata": {},
     "output_type": "execute_result"
    }
   ],
   "source": [
    "meanCSV"
   ]
  },
  {
   "cell_type": "code",
   "execution_count": 37,
   "metadata": {},
   "outputs": [
    {
     "data": {
      "text/html": [
       "<div>\n",
       "<style scoped>\n",
       "    .dataframe tbody tr th:only-of-type {\n",
       "        vertical-align: middle;\n",
       "    }\n",
       "\n",
       "    .dataframe tbody tr th {\n",
       "        vertical-align: top;\n",
       "    }\n",
       "\n",
       "    .dataframe thead th {\n",
       "        text-align: right;\n",
       "    }\n",
       "</style>\n",
       "<table border=\"1\" class=\"dataframe\">\n",
       "  <thead>\n",
       "    <tr style=\"text-align: right;\">\n",
       "      <th></th>\n",
       "      <th>0</th>\n",
       "      <th>1</th>\n",
       "      <th>2</th>\n",
       "      <th>3</th>\n",
       "      <th>4</th>\n",
       "      <th>5</th>\n",
       "      <th>6</th>\n",
       "      <th>7</th>\n",
       "      <th>8</th>\n",
       "      <th>9</th>\n",
       "      <th>10</th>\n",
       "      <th>11</th>\n",
       "      <th>12</th>\n",
       "      <th>13</th>\n",
       "      <th>14</th>\n",
       "      <th>15</th>\n",
       "      <th>16</th>\n",
       "      <th>17</th>\n",
       "      <th>18</th>\n",
       "    </tr>\n",
       "  </thead>\n",
       "  <tbody>\n",
       "    <tr>\n",
       "      <th>25</th>\n",
       "      <td>MYD09GA.A2018059.h08v05.006.2018061030252</td>\n",
       "      <td></td>\n",
       "      <td></td>\n",
       "      <td>200.0</td>\n",
       "      <td>4462.0</td>\n",
       "      <td>7502.0</td>\n",
       "      <td>4674.0</td>\n",
       "      <td>-17005.0</td>\n",
       "      <td>2902.0</td>\n",
       "      <td>3343.0</td>\n",
       "      <td>1506.0</td>\n",
       "      <td>2474.0</td>\n",
       "      <td>3315.0</td>\n",
       "      <td>-28672.0</td>\n",
       "      <td>3261.0</td>\n",
       "      <td>0.065989848</td>\n",
       "      <td>0.024355116</td>\n",
       "      <td>0.050916497000000005</td>\n",
       "      <td></td>\n",
       "    </tr>\n",
       "  </tbody>\n",
       "</table>\n",
       "</div>"
      ],
      "text/plain": [
       "                                           0  1  2      3       4       5   \\\n",
       "25  MYD09GA.A2018059.h08v05.006.2018061030252        200.0  4462.0  7502.0   \n",
       "\n",
       "        6         7       8       9       10      11      12        13  \\\n",
       "25  4674.0  -17005.0  2902.0  3343.0  1506.0  2474.0  3315.0  -28672.0   \n",
       "\n",
       "        14           15           16                    17 18  \n",
       "25  3261.0  0.065989848  0.024355116  0.050916497000000005     "
      ]
     },
     "execution_count": 37,
     "metadata": {},
     "output_type": "execute_result"
    }
   ],
   "source": [
    "minPixels"
   ]
  },
  {
   "cell_type": "code",
   "execution_count": 38,
   "metadata": {},
   "outputs": [
    {
     "data": {
      "text/html": [
       "<div>\n",
       "<style scoped>\n",
       "    .dataframe tbody tr th:only-of-type {\n",
       "        vertical-align: middle;\n",
       "    }\n",
       "\n",
       "    .dataframe tbody tr th {\n",
       "        vertical-align: top;\n",
       "    }\n",
       "\n",
       "    .dataframe thead th {\n",
       "        text-align: right;\n",
       "    }\n",
       "</style>\n",
       "<table border=\"1\" class=\"dataframe\">\n",
       "  <thead>\n",
       "    <tr style=\"text-align: right;\">\n",
       "      <th></th>\n",
       "      <th>0</th>\n",
       "      <th>1</th>\n",
       "      <th>2</th>\n",
       "      <th>3</th>\n",
       "      <th>4</th>\n",
       "      <th>5</th>\n",
       "      <th>6</th>\n",
       "      <th>7</th>\n",
       "      <th>8</th>\n",
       "      <th>9</th>\n",
       "      <th>10</th>\n",
       "      <th>11</th>\n",
       "      <th>12</th>\n",
       "      <th>13</th>\n",
       "      <th>14</th>\n",
       "      <th>15</th>\n",
       "      <th>16</th>\n",
       "      <th>17</th>\n",
       "      <th>18</th>\n",
       "    </tr>\n",
       "  </thead>\n",
       "  <tbody>\n",
       "    <tr>\n",
       "      <th>26</th>\n",
       "      <td>MYD09GA.A2018059.h08v05.006.2018061030252</td>\n",
       "      <td></td>\n",
       "      <td></td>\n",
       "      <td>16584.0</td>\n",
       "      <td>4472.0</td>\n",
       "      <td>7514.0</td>\n",
       "      <td>4675.0</td>\n",
       "      <td>-17001.0</td>\n",
       "      <td>3150.0</td>\n",
       "      <td>3609.0</td>\n",
       "      <td>1685.0</td>\n",
       "      <td>2705.0</td>\n",
       "      <td>3554.0</td>\n",
       "      <td>3863.0</td>\n",
       "      <td>3460.0</td>\n",
       "      <td>0.071726053</td>\n",
       "      <td>0.026827128999999998</td>\n",
       "      <td>0.05617136</td>\n",
       "      <td></td>\n",
       "    </tr>\n",
       "  </tbody>\n",
       "</table>\n",
       "</div>"
      ],
      "text/plain": [
       "                                           0  1  2        3       4       5   \\\n",
       "26  MYD09GA.A2018059.h08v05.006.2018061030252        16584.0  4472.0  7514.0   \n",
       "\n",
       "        6         7       8       9       10      11      12      13      14  \\\n",
       "26  4675.0  -17001.0  3150.0  3609.0  1685.0  2705.0  3554.0  3863.0  3460.0   \n",
       "\n",
       "             15                    16          17 18  \n",
       "26  0.071726053  0.026827128999999998  0.05617136     "
      ]
     },
     "execution_count": 38,
     "metadata": {},
     "output_type": "execute_result"
    }
   ],
   "source": [
    "maxPixels"
   ]
  },
  {
   "cell_type": "code",
   "execution_count": null,
   "metadata": {},
   "outputs": [],
   "source": []
  },
  {
   "cell_type": "code",
   "execution_count": null,
   "metadata": {},
   "outputs": [],
   "source": []
  },
  {
   "cell_type": "code",
   "execution_count": 244,
   "metadata": {},
   "outputs": [
    {
     "name": "stdout",
     "output_type": "stream",
     "text": [
      "True\n"
     ]
    }
   ],
   "source": [
    "print(qaSummary.all())"
   ]
  },
  {
   "cell_type": "code",
   "execution_count": 69,
   "metadata": {},
   "outputs": [
    {
     "name": "stdout",
     "output_type": "stream",
     "text": [
      "              3           4             5            6             7   \\\n",
      "mean  200.444444  176.777778  11918.333333  6327.555556  16210.888889   \n",
      "min   200.000000  166.000000  11748.000000  6327.000000  16210.000000   \n",
      "max   202.000000  186.000000  12113.000000  6329.000000  16212.000000   \n",
      "std     0.881917    5.651942    132.893755     0.726483      0.600925   \n",
      "\n",
      "               8            9            10           11           12  \\\n",
      "mean  3459.000000  3814.000000  1771.000000  2972.888889  3768.888889   \n",
      "min   3311.000000  3665.000000  1667.000000  2838.000000  3293.000000   \n",
      "max   3564.000000  3921.000000  1913.000000  3112.000000  4071.000000   \n",
      "std     84.886689    82.073138    85.562842    91.506071   302.557203   \n",
      "\n",
      "               13           14        15        16        17   0   \n",
      "mean  3983.888889  3304.222222  0.048842  0.018562  0.040140  NaN  \n",
      "min   3781.000000  2957.000000  0.045713  0.017314  0.037836  NaN  \n",
      "max   4204.000000  3493.000000  0.050976  0.019508  0.041530  NaN  \n",
      "std    129.788717   188.333333  0.001775  0.000728  0.001140  NaN  \n"
     ]
    }
   ],
   "source": [
    "fillColoumnName = appSummaryStats.loc[24:,0] = appSummaryStats.loc[0,0]\n",
    "\n",
    "\n"
   ]
  },
  {
   "cell_type": "code",
   "execution_count": 151,
   "metadata": {},
   "outputs": [
    {
     "name": "stdout",
     "output_type": "stream",
     "text": [
      "    3    4      5     6      7     8     9     10    11    12    13    14  \\\n",
      "0  200  186  12014  6329  16210  3547  3899  1913  3112  3455  4204  3102   \n",
      "1  202  178  12113  6328  16211  3311  3665  1702  2838  3293  4003  2957   \n",
      "2  202  178  12113  6328  16211  3408  3770  1744  2900  4057  3781  3484   \n",
      "3  200  175  11836  6327  16211  3379  3742  1667  2883  3877  3850  3344   \n",
      "4  200  175  11836  6327  16211  3446  3800  1768  2974  3540  4035  3205   \n",
      "5  200  166  11933  6327  16212  3564  3921  1853  3060  4055  3989  3493   \n",
      "6  200  183  11748  6328  16210  3438  3797  1667  2929  3994  3912  3440   \n",
      "7  200  175  11836  6327  16211  3510  3866  1789  3028  3578  4120  3259   \n",
      "8  200  175  11836  6327  16211  3528  3866  1836  3032  4071  3961  3454   \n",
      "\n",
      "            15           16           17  \n",
      "0  0.047273704  0.017767548   0.03926503  \n",
      "1  0.050745413  0.019116122  0.040950609  \n",
      "2  0.050431875  0.019134001  0.041231571  \n",
      "3  0.050975987  0.019508368   0.04153014  \n",
      "4   0.04885454  0.018539467  0.040098956  \n",
      "5  0.047695391  0.018139322  0.039711497  \n",
      "6  0.049619903  0.019125246  0.040706271  \n",
      "7  0.048264642  0.018409921  0.039928219  \n",
      "8   0.04571274  0.017314155  0.037836047  \n"
     ]
    }
   ],
   "source": [
    "print(studySitePixels)"
   ]
  },
  {
   "cell_type": "code",
   "execution_count": null,
   "metadata": {},
   "outputs": [],
   "source": [
    "def stateQAtest(QA):\n",
    "    return [(isLand(QA))&\n",
    "            (isnotCloudMOD(QA))&\n",
    "            (isnotShadowMOD(QA))&\n",
    "            isAeroLow(QA)&\n",
    "            isnotCirrus(QA)&\n",
    "            isnotSnowMOD(QA)&\n",
    "            isnotCloudINT(QA)&\n",
    "            isnotSnowMOD(QA)&\n",
    "            isnotSnowINT(QA)]"
   ]
  },
  {
   "cell_type": "code",
   "execution_count": 111,
   "metadata": {},
   "outputs": [
    {
     "name": "stdout",
     "output_type": "stream",
     "text": [
      "3     2.224469e+25\n",
      "4     2.068646e+25\n",
      "5     1.334902e+43\n",
      "6     7.032925e+34\n",
      "7     1.801129e+43\n",
      "8     3.941479e+34\n",
      "9     4.332629e+34\n",
      "10    2.125745e+34\n",
      "11    3.458093e+34\n",
      "12    3.839255e+34\n",
      "13    4.671556e+34\n",
      "14    3.446995e+34\n",
      "dtype: float64\n"
     ]
    }
   ],
   "source": [
    "BBB = studySitePixels.mean()\n",
    "print(BBB)"
   ]
  },
  {
   "cell_type": "code",
   "execution_count": 54,
   "metadata": {},
   "outputs": [],
   "source": [
    "# CONSTANTS / CONFIGURABLE VALUES\n",
    "\n",
    "# Directory to scan for CSV files and save output TXT\n",
    "root = \"/Volumes/SD/radCalNet/test\""
   ]
  },
  {
   "cell_type": "code",
   "execution_count": 55,
   "metadata": {},
   "outputs": [
    {
     "name": "stdout",
     "output_type": "stream",
     "text": [
      "Files:  1\n"
     ]
    }
   ],
   "source": [
    "# Find all CSV files including inside sub-directories csvFiles = glob.glob(os.path.join(root, \"**/*.czs\"))\n",
    "csvFiles = glob.glob(os.path.join(root, \"**\", \"*.csv\"), recursive=True)\n",
    "print(\"Files: \", len(csvFiles))"
   ]
  },
  {
   "cell_type": "code",
   "execution_count": 56,
   "metadata": {},
   "outputs": [
    {
     "name": "stdout",
     "output_type": "stream",
     "text": [
      "                                           0  1  2     3    4      5     6   \\\n",
      "0   MOD09GA.A2018004.h08v05.006.2018006030625  0  0  8394  195  11923  6329   \n",
      "1   MOD09GA.A2018004.h08v05.006.2018006030625  0  1  8394  195  11923  6329   \n",
      "2   MOD09GA.A2018004.h08v05.006.2018006030625  0  2   200  186  12014  6329   \n",
      "3   MOD09GA.A2018004.h08v05.006.2018006030625  0  3   200  186  12014  6329   \n",
      "4   MOD09GA.A2018004.h08v05.006.2018006030625  0  4   202  178  12113  6328   \n",
      "5   MOD09GA.A2018004.h08v05.006.2018006030625  0  5   202  178  12113  6328   \n",
      "6   MOD09GA.A2018004.h08v05.006.2018006030625  1  0  8394  195  11923  6329   \n",
      "7   MOD09GA.A2018004.h08v05.006.2018006030625  1  1  8394  195  11923  6329   \n",
      "8   MOD09GA.A2018004.h08v05.006.2018006030625  1  2   200  186  12014  6329   \n",
      "9   MOD09GA.A2018004.h08v05.006.2018006030625  1  3   200  186  12014  6329   \n",
      "10  MOD09GA.A2018004.h08v05.006.2018006030625  1  4   202  178  12113  6328   \n",
      "11  MOD09GA.A2018004.h08v05.006.2018006030625  1  5   202  178  12113  6328   \n",
      "12  MOD09GA.A2018004.h08v05.006.2018006030625  2  0   200  183  11748  6328   \n",
      "13  MOD09GA.A2018004.h08v05.006.2018006030625  2  1   200  183  11748  6328   \n",
      "14  MOD09GA.A2018004.h08v05.006.2018006030625  2  2   200  175  11836  6327   \n",
      "15  MOD09GA.A2018004.h08v05.006.2018006030625  2  3   200  175  11836  6327   \n",
      "16  MOD09GA.A2018004.h08v05.006.2018006030625  2  4   200  166  11933  6327   \n",
      "17  MOD09GA.A2018004.h08v05.006.2018006030625  2  5   200  166  11933  6327   \n",
      "18  MOD09GA.A2018004.h08v05.006.2018006030625  3  0   200  183  11748  6328   \n",
      "19  MOD09GA.A2018004.h08v05.006.2018006030625  3  1   200  183  11748  6328   \n",
      "20  MOD09GA.A2018004.h08v05.006.2018006030625  3  2   200  175  11836  6327   \n",
      "21  MOD09GA.A2018004.h08v05.006.2018006030625  3  3   200  175  11836  6327   \n",
      "22  MOD09GA.A2018004.h08v05.006.2018006030625  3  4   200  166  11933  6327   \n",
      "23  MOD09GA.A2018004.h08v05.006.2018006030625  3  5   200  166  11933  6327   \n",
      "\n",
      "       7     8     9     10    11    12    13    14           15           16  \\\n",
      "0   16209  3033  3318  1629  2641  3533  3362  2981  0.044874823  0.016291859   \n",
      "1   16209  3195  3522  1666  2764  3159  3858  2783  0.048682448  0.018091486   \n",
      "2   16210  3460  3798  1868  3015  4056  3801  3509  0.046569303  0.017398287   \n",
      "3   16210  3547  3899  1913  3112  3455  4204  3102  0.047273704  0.017767548   \n",
      "4   16211  3586  3947  1817  3124  3489  4268  3164  0.047922474  0.018384412   \n",
      "5   16211  3546  3912  1790  3019  4223  3909  3694  0.049074819  0.018822126   \n",
      "6   16209  3281  3608  1693  2839  3348  3844  2936  0.047466976  0.017775024   \n",
      "7   16209  3505  3832  1903  3065  3943  3935  3461  0.044568625  0.016638004   \n",
      "8   16210  3576  3924  1914  3122  3649  4150  3315       0.0464  0.017492711   \n",
      "9   16210  3547  3899  1913  3112  3455  4204  3102  0.047273704  0.017767548   \n",
      "10  16211  3311  3665  1702  2838  3293  4003  2957  0.050745413  0.019116122   \n",
      "11  16211  3408  3770  1744  2900  4057  3781  3484  0.050431875  0.019134001   \n",
      "12  16210  3505  3832  1903  3065  3943  3935  3461  0.044568625  0.016638004   \n",
      "13  16210  3576  3924  1914  3122  3649  4150  3315       0.0464  0.017492711   \n",
      "14  16211  3379  3742  1667  2883  3877  3850  3344  0.050975987  0.019508368   \n",
      "15  16211  3446  3800  1768  2974  3540  4035  3205   0.04885454  0.018539467   \n",
      "16  16212  3564  3921  1853  3060  4055  3989  3493  0.047695391  0.018139322   \n",
      "17  16212  3465  3818  1795  2991  3575  4032  3175  0.048469037  0.018358453   \n",
      "18  16210  3650  4016  1900  3192  3648  4267  3368  0.047743282  0.018239445   \n",
      "19  16210  3438  3797  1667  2929  3994  3912  3440  0.049619903  0.019125246   \n",
      "20  16211  3510  3866  1789  3028  3578  4120  3259  0.048264642  0.018409921   \n",
      "21  16211  3528  3866  1836  3032  4071  3961  3454   0.04571274  0.017314155   \n",
      "22  16212  3465  3818  1795  2991  3575  4032  3175  0.048469037  0.018358453   \n",
      "23  16212  3561  3924  1843  3046  4067  4006  3541  0.048496994  0.018477984   \n",
      "\n",
      "             17     18  \n",
      "0    0.03459208  False  \n",
      "1   0.038579519  False  \n",
      "2   0.038231834  False  \n",
      "3    0.03926503  False  \n",
      "4   0.040016139  False  \n",
      "5   0.040807407  False  \n",
      "6   0.038054407  False  \n",
      "7   0.036751484  False  \n",
      "8   0.038655671  False  \n",
      "9    0.03926503  False  \n",
      "10  0.040950609  False  \n",
      "11  0.041231571  False  \n",
      "12  0.036751484  False  \n",
      "13  0.038655671  False  \n",
      "14   0.04153014  False  \n",
      "15  0.040098956  False  \n",
      "16  0.039711497  False  \n",
      "17  0.039870787  False  \n",
      "18  0.040173867  False  \n",
      "19  0.040706271  False  \n",
      "20  0.039928219  False  \n",
      "21  0.037836047  False  \n",
      "22  0.039870787  False  \n",
      "23  0.040386464  False  \n"
     ]
    }
   ],
   "source": [
    "# Loop over every CSV file found\n",
    "for csvFile in csvFiles:\n",
    "    import csv \n",
    "    with open(csvFile, \"r\") as f: \n",
    "        modisFile = list(csv.reader(f, delimiter = ','))\n",
    "    #Creates an array of the stateQA values\n",
    "    modisArray = np.array(modisFile[0:], dtype=None)\n",
    "    qaArray = modisArray[:,3].astype(np.uint16, copy=False)\n",
    "    dataStateQA = stateQAtest(qaArray)\n",
    "#re-shapes the numpy array of QA test results to be in a column, not a list like a row\n",
    "    reshapeData = np.reshape(dataStateQA, (24,1))\n",
    "    csv_data = pd.DataFrame(reshapeData)\n",
    " #Creates a pandas dataframe from the MODIS csv   \n",
    "    pandaModisFile = pd.DataFrame(modisFile)\n",
    "    \n",
    "    appendQA = pd.concat([pandaModisFile,csv_data],axis=1, ignore_index=True)\n",
    "    print(appendQA)   \n",
    "    #np.savetxt(csvFile, reshapeData, delimiter=\",\")   \n",
    "#Uncomment to write to file\n",
    "    appendQA.to_csv(csvFile, header=None, index=None)\n",
    "   \n",
    "    #break # Remove this to make it run for all files, not just the first"
   ]
  },
  {
   "cell_type": "code",
   "execution_count": 81,
   "metadata": {},
   "outputs": [],
   "source": [
    "import csv \n",
    "with open(csvFiles, \"r\") as f: \n",
    "    modis = list(csv.reader(f, delimiter = ','))\n",
    "MOD = np.array(modis[0:], dtype=None)\n",
    "qaqa = MOD[:,3].astype(np.uint16, copy=False)\n"
   ]
  },
  {
   "cell_type": "code",
   "execution_count": 37,
   "metadata": {},
   "outputs": [],
   "source": []
  },
  {
   "cell_type": "code",
   "execution_count": 51,
   "metadata": {},
   "outputs": [],
   "source": [
    "qaqa = MOD[:,3]"
   ]
  },
  {
   "cell_type": "code",
   "execution_count": 78,
   "metadata": {},
   "outputs": [
    {
     "name": "stdout",
     "output_type": "stream",
     "text": [
      "[8393 8393 8393 8393 8393 8393 8393 8393 8393 8393 8393 8393 8393 8393\n",
      " 8393 8393 1033 1033 8393 8393 8393 8393 1033 1033]\n"
     ]
    }
   ],
   "source": [
    "print(qaqa)"
   ]
  },
  {
   "cell_type": "code",
   "execution_count": 76,
   "metadata": {},
   "outputs": [
    {
     "name": "stdout",
     "output_type": "stream",
     "text": [
      "[array([False, False, False, False, False, False, False, False, False,\n",
      "       False, False, False, False, False, False, False, False, False,\n",
      "       False, False, False, False, False, False])]\n"
     ]
    }
   ],
   "source": [
    "print(stateQAtest(qaqa))"
   ]
  },
  {
   "cell_type": "code",
   "execution_count": 62,
   "metadata": {},
   "outputs": [],
   "source": []
  },
  {
   "cell_type": "code",
   "execution_count": 63,
   "metadata": {},
   "outputs": [
    {
     "name": "stdout",
     "output_type": "stream",
     "text": [
      "[array([False, False, False, False, False, False, False, False, False,\n",
      "       False, False, False, False, False, False, False, False, False,\n",
      "       False, False, False, False, False, False])]\n"
     ]
    }
   ],
   "source": []
  },
  {
   "cell_type": "code",
   "execution_count": 27,
   "metadata": {},
   "outputs": [],
   "source": [
    "# Function Definitions\n",
    "\n",
    "# MODIS State QA\n",
    "\n",
    "def isLand(bits):\n",
    "    return (bits & 0x0038) == 0x0008\n",
    "    \n",
    "def isnotCloudMOD(bits):\n",
    "    return (bits & 0x0003) == 0\n",
    "    \n",
    "def isnotShadowMOD(bits):\n",
    "    return (bits & 0x0004) == 0\n",
    "    \n",
    "def isAeroLow(bits):\n",
    "    return (bits & 0x00c0) == 0x0040\n",
    "\n",
    "def isnotCirrus(bits):\n",
    "    return (bits & 0x0300) == 0\n",
    "\n",
    "def isnotCloudINT(bits):\n",
    "    return (bits & 0x0400) == 0\n",
    "\n",
    "def isnotAdjCloud(bits):\n",
    "    return (bits & 0x2000) == 0\n",
    "\n",
    "def isnotSnowMOD(bits):\n",
    "    return (bits & 0x8000) == 0\n",
    "\n",
    "def isnotSnowINT(bits):\n",
    "    return (bits & 0x1000) == 0\n",
    "\n",
    "#make a new coulmn in CSV with the 1 or 0, and that will tell me whether to include that row/pixel \n",
    "def stateQAtest(QA):\n",
    "    return [(isLand(QA))&\n",
    "            (isnotCloudMOD(QA))&\n",
    "            (isnotShadowMOD(QA))&\n",
    "            isAeroLow(QA)&\n",
    "            isnotCirrus(QA)&\n",
    "            isnotSnowMOD(QA)&\n",
    "            isnotCloudINT(QA)&\n",
    "            isnotSnowMOD(QA)&\n",
    "            isnotSnowINT(QA)]"
   ]
  },
  {
   "cell_type": "code",
   "execution_count": 11,
   "metadata": {},
   "outputs": [],
   "source": [
    "# CONSTANTS / CONFIGURABLE VALUES\n",
    "\n",
    "# Directory to scan for CSV files and save output TXT\n",
    "root = \"/Volumes/SD/radCalNet/2018MYD09GA\""
   ]
  },
  {
   "cell_type": "code",
   "execution_count": 13,
   "metadata": {},
   "outputs": [
    {
     "name": "stdout",
     "output_type": "stream",
     "text": [
      "Files:  59\n"
     ]
    }
   ],
   "source": [
    "# Find all CSV files including inside sub-directories csvFiles = glob.glob(os.path.join(root, \"**/*.czs\"))\n",
    "csvFiles = glob.glob(os.path.join(root, \"**\", \"*.csv\"), recursive=True)\n",
    "print(\"Files: \", len(csvFiles))"
   ]
  },
  {
   "cell_type": "code",
   "execution_count": 69,
   "metadata": {},
   "outputs": [
    {
     "ename": "SyntaxError",
     "evalue": "invalid syntax (<ipython-input-69-f49315aea5b8>, line 7)",
     "output_type": "error",
     "traceback": [
      "\u001b[0;36m  File \u001b[0;32m\"<ipython-input-69-f49315aea5b8>\"\u001b[0;36m, line \u001b[0;32m7\u001b[0m\n\u001b[0;31m    if all(stateQATestResult) is True\u001b[0m\n\u001b[0m                                     ^\u001b[0m\n\u001b[0;31mSyntaxError\u001b[0m\u001b[0;31m:\u001b[0m invalid syntax\n"
     ]
    }
   ],
   "source": [
    "# Loop over every CSV file found\n",
    "for csvFile in csvFiles:\n",
    "    csv_data = pandas.read_csv(csvFile, header=None)\n",
    "    #Creates an array of the stateQA values\n",
    "    stateQA = csv_data.loc[:,[3]]\n",
    "    stateQATestResult = stateQAtest(stateQA)\n",
    "    if all(stateQATestResult) is True\n",
    "        return stateQA.mean(axis=0)\n",
    "    #Append column to csv_data here\n",
    "    \n",
    "    \n",
    "    \n",
    "    #Uncomment to write to file\n",
    "    #csv_data.to_csv(csvFile)\n",
    "\n",
    "    break # Remove this to make it run for all files, not just the first"
   ]
  },
  {
   "cell_type": "code",
   "execution_count": 67,
   "metadata": {},
   "outputs": [
    {
     "name": "stdout",
     "output_type": "stream",
     "text": [
      "0            3\n",
      "0   False\n",
      "1   False\n",
      "2   False\n",
      "3   Fa...\n",
      "dtype: object\n"
     ]
    },
    {
     "ename": "ValueError",
     "evalue": "Other Series must have a name",
     "output_type": "error",
     "traceback": [
      "\u001b[0;31m---------------------------------------------------------------------------\u001b[0m",
      "\u001b[0;31mValueError\u001b[0m                                Traceback (most recent call last)",
      "\u001b[0;32m<ipython-input-67-f1cee2c55fd2>\u001b[0m in \u001b[0;36m<module>\u001b[0;34m()\u001b[0m\n\u001b[1;32m      7\u001b[0m     \u001b[0mstateQASeries\u001b[0m \u001b[0;34m=\u001b[0m \u001b[0mpandas\u001b[0m\u001b[0;34m.\u001b[0m\u001b[0mSeries\u001b[0m\u001b[0;34m(\u001b[0m\u001b[0mstateQATestResult\u001b[0m\u001b[0;34m)\u001b[0m\u001b[0;34m\u001b[0m\u001b[0m\n\u001b[1;32m      8\u001b[0m     \u001b[0mprint\u001b[0m\u001b[0;34m(\u001b[0m\u001b[0mstateQASeries\u001b[0m\u001b[0;34m)\u001b[0m\u001b[0;34m\u001b[0m\u001b[0m\n\u001b[0;32m----> 9\u001b[0;31m     \u001b[0mprint\u001b[0m\u001b[0;34m(\u001b[0m\u001b[0mcsv_data\u001b[0m\u001b[0;34m.\u001b[0m\u001b[0mjoin\u001b[0m\u001b[0;34m(\u001b[0m\u001b[0mstateQASeries\u001b[0m\u001b[0;34m,\u001b[0m \u001b[0mlsuffix\u001b[0m\u001b[0;34m=\u001b[0m\u001b[0;34m\"asd\"\u001b[0m\u001b[0;34m,\u001b[0m \u001b[0mrsuffix\u001b[0m\u001b[0;34m=\u001b[0m\u001b[0;34m\"stateQAtest\"\u001b[0m\u001b[0;34m)\u001b[0m\u001b[0;34m)\u001b[0m\u001b[0;34m\u001b[0m\u001b[0m\n\u001b[0m\u001b[1;32m     10\u001b[0m \u001b[0;31m#     csv_data[\"stateQAtest\"] = test\u001b[0m\u001b[0;34m\u001b[0m\u001b[0;34m\u001b[0m\u001b[0m\n\u001b[1;32m     11\u001b[0m \u001b[0;31m#     test = pandas.concat([csv_data, stateQASeries], axis=1)\u001b[0m\u001b[0;34m\u001b[0m\u001b[0;34m\u001b[0m\u001b[0m\n",
      "\u001b[0;32m~/anaconda3/lib/python3.6/site-packages/pandas/core/frame.py\u001b[0m in \u001b[0;36mjoin\u001b[0;34m(self, other, on, how, lsuffix, rsuffix, sort)\u001b[0m\n\u001b[1;32m   5314\u001b[0m         \u001b[0;31m# For SparseDataFrame's benefit\u001b[0m\u001b[0;34m\u001b[0m\u001b[0;34m\u001b[0m\u001b[0m\n\u001b[1;32m   5315\u001b[0m         return self._join_compat(other, on=on, how=how, lsuffix=lsuffix,\n\u001b[0;32m-> 5316\u001b[0;31m                                  rsuffix=rsuffix, sort=sort)\n\u001b[0m\u001b[1;32m   5317\u001b[0m \u001b[0;34m\u001b[0m\u001b[0m\n\u001b[1;32m   5318\u001b[0m     def _join_compat(self, other, on=None, how='left', lsuffix='', rsuffix='',\n",
      "\u001b[0;32m~/anaconda3/lib/python3.6/site-packages/pandas/core/frame.py\u001b[0m in \u001b[0;36m_join_compat\u001b[0;34m(self, other, on, how, lsuffix, rsuffix, sort)\u001b[0m\n\u001b[1;32m   5323\u001b[0m         \u001b[0;32mif\u001b[0m \u001b[0misinstance\u001b[0m\u001b[0;34m(\u001b[0m\u001b[0mother\u001b[0m\u001b[0;34m,\u001b[0m \u001b[0mSeries\u001b[0m\u001b[0;34m)\u001b[0m\u001b[0;34m:\u001b[0m\u001b[0;34m\u001b[0m\u001b[0m\n\u001b[1;32m   5324\u001b[0m             \u001b[0;32mif\u001b[0m \u001b[0mother\u001b[0m\u001b[0;34m.\u001b[0m\u001b[0mname\u001b[0m \u001b[0;32mis\u001b[0m \u001b[0;32mNone\u001b[0m\u001b[0;34m:\u001b[0m\u001b[0;34m\u001b[0m\u001b[0m\n\u001b[0;32m-> 5325\u001b[0;31m                 \u001b[0;32mraise\u001b[0m \u001b[0mValueError\u001b[0m\u001b[0;34m(\u001b[0m\u001b[0;34m'Other Series must have a name'\u001b[0m\u001b[0;34m)\u001b[0m\u001b[0;34m\u001b[0m\u001b[0m\n\u001b[0m\u001b[1;32m   5326\u001b[0m             \u001b[0mother\u001b[0m \u001b[0;34m=\u001b[0m \u001b[0mDataFrame\u001b[0m\u001b[0;34m(\u001b[0m\u001b[0;34m{\u001b[0m\u001b[0mother\u001b[0m\u001b[0;34m.\u001b[0m\u001b[0mname\u001b[0m\u001b[0;34m:\u001b[0m \u001b[0mother\u001b[0m\u001b[0;34m}\u001b[0m\u001b[0;34m)\u001b[0m\u001b[0;34m\u001b[0m\u001b[0m\n\u001b[1;32m   5327\u001b[0m \u001b[0;34m\u001b[0m\u001b[0m\n",
      "\u001b[0;31mValueError\u001b[0m: Other Series must have a name"
     ]
    }
   ],
   "source": [
    "# Loop over every CSV file found\n",
    "for csvFile in csvFiles:\n",
    "    csv_data = pandas.read_csv(csvFile, header=None)\n",
    "    #Creates an array of the stateQA values\n",
    "    stateQA = csv_data.loc[:,[3]]\n",
    "    stateQATestResult = stateQAtest(stateQA)\n",
    "    \n",
    "    #Append column to csv_data here\n",
    "    \n",
    "    csv_data.to_"
   ]
  },
  {
   "cell_type": "code",
   "execution_count": 22,
   "metadata": {},
   "outputs": [],
   "source": [
    "test = pandas.read_csv(\"/Users/Char/Desktop/MOD09GA.A2012001.h08v05.006.2015229234041.csv\", header=None)"
   ]
  },
  {
   "cell_type": "code",
   "execution_count": 23,
   "metadata": {},
   "outputs": [
    {
     "name": "stdout",
     "output_type": "stream",
     "text": [
      "                                           0   1   2     3     4     5     6   \\\n",
      "0   MOD09GA.A2012001.h08v05.006.2015229234041   0   0  8393  4804  9638  6571   \n",
      "1   MOD09GA.A2012001.h08v05.006.2015229234041   0   1  8393  4804  9638  6571   \n",
      "2   MOD09GA.A2012001.h08v05.006.2015229234041   0   2  8393  4803  9553  6571   \n",
      "3   MOD09GA.A2012001.h08v05.006.2015229234041   0   3  8393  4803  9553  6571   \n",
      "4   MOD09GA.A2012001.h08v05.006.2015229234041   0   4  8393  4793  9554  6570   \n",
      "5   MOD09GA.A2012001.h08v05.006.2015229234041   0   5  8393  4793  9554  6570   \n",
      "6   MOD09GA.A2012001.h08v05.006.2015229234041   1   0  8393  4804  9638  6571   \n",
      "7   MOD09GA.A2012001.h08v05.006.2015229234041   1   1  8393  4804  9638  6571   \n",
      "8   MOD09GA.A2012001.h08v05.006.2015229234041   1   2  8393  4803  9553  6571   \n",
      "9   MOD09GA.A2012001.h08v05.006.2015229234041   1   3  8393  4803  9553  6571   \n",
      "10  MOD09GA.A2012001.h08v05.006.2015229234041   1   4  8393  4793  9554  6570   \n",
      "11  MOD09GA.A2012001.h08v05.006.2015229234041   1   5  8393  4793  9554  6570   \n",
      "12  MOD09GA.A2012001.h08v05.006.2015229234041   2   0  8393  4803  9541  6569   \n",
      "13  MOD09GA.A2012001.h08v05.006.2015229234041   2   1  8393  4803  9541  6569   \n",
      "14  MOD09GA.A2012001.h08v05.006.2015229234041   2   2  8393  4794  9640  6570   \n",
      "15  MOD09GA.A2012001.h08v05.006.2015229234041   2   3  8393  4794  9640  6570   \n",
      "16  MOD09GA.A2012001.h08v05.006.2015229234041   2   4  1033  4784  9642  6569   \n",
      "17  MOD09GA.A2012001.h08v05.006.2015229234041   2   5  1033  4784  9642  6569   \n",
      "18  MOD09GA.A2012001.h08v05.006.2015229234041   3   0  8393  4803  9541  6569   \n",
      "19  MOD09GA.A2012001.h08v05.006.2015229234041   3   1  8393  4803  9541  6569   \n",
      "20  MOD09GA.A2012001.h08v05.006.2015229234041   3   2  8393  4794  9640  6570   \n",
      "21  MOD09GA.A2012001.h08v05.006.2015229234041   3   3  8393  4794  9640  6570   \n",
      "22  MOD09GA.A2012001.h08v05.006.2015229234041   3   4  1033  4784  9642  6569   \n",
      "23  MOD09GA.A2012001.h08v05.006.2015229234041   3   5  1033  4784  9642  6569   \n",
      "\n",
      "       7     8     9     10    11    12    13    14        15        16  \\\n",
      "0   15510  3985  4369  1988  3460  4311  4402  3665  0.045966  0.018049   \n",
      "1   15510  3985  4369  1988  3460  4311  4402  3665  0.045966  0.018049   \n",
      "2   15510  4067  4450  2103  3530  4543  4522  3907  0.044969  0.017529   \n",
      "3   15510  4176  4572  2191  3700  4199  4749  3874  0.045267  0.017659   \n",
      "4   15512  4173  4529  2168  3644  4106  4761  3820  0.040910  0.015942   \n",
      "5   15512  4143  4529  2143  3623  4470  4553  3879  0.044511  0.017400   \n",
      "6   15510  4102  4504  2163  3556  4596  4545  3925  0.046712  0.018161   \n",
      "7   15510  4102  4504  2163  3556  4596  4545  3925  0.046712  0.018161   \n",
      "8   15510  4209  4569  2182  3697  4215  4745  3809  0.041012  0.016018   \n",
      "9   15510  4189  4556  2181  3632  4127  4732  3785  0.041967  0.016370   \n",
      "10  15512  4235  4587  2180  3697  4558  4601  3979  0.039900  0.015618   \n",
      "11  15512  4298  4705  2234  3731  4761  4659  4103  0.045207  0.017774   \n",
      "12  15510  4140  4561  2260  3623  4548  4661  3929  0.048385  0.018678   \n",
      "13  15510  4182  4555  2721  3772  4305  4731  3884  0.042692  0.015528   \n",
      "14  15512  4235  4587  2180  3697  4558  4601  3979  0.039900  0.015618   \n",
      "15  15512  4235  4587  2180  3697  4558  4601  3979  0.039900  0.015618   \n",
      "16  15514  4314  4697  2739  3864  4333  4942  4045  0.042504  0.015665   \n",
      "17  15514  4314  4697  2739  3864  4333  4942  4045  0.042504  0.015665   \n",
      "18  15510  4182  4555  2721  3772  4305  4731  3884  0.042692  0.015528   \n",
      "19  15510  4346  4720  2287  3801  4647  4669  4082  0.041253  0.016135   \n",
      "20  15512  4248  4674  2742  3791  4691  4790  4091  0.047747  0.017538   \n",
      "21  15512  4457  4856  2291  3869  4409  4985  3987  0.042843  0.016970   \n",
      "22  15514  4426  4857  2343  3837  4540  4943  4105  0.046429  0.018267   \n",
      "23  15514  4426  4857  2343  3837  4540  4943  4105  0.046429  0.018267   \n",
      "\n",
      "          17  \n",
      "0   0.040112  \n",
      "1   0.040112  \n",
      "2   0.039548  \n",
      "3   0.040253  \n",
      "4   0.036261  \n",
      "5   0.039432  \n",
      "6   0.041275  \n",
      "7   0.041275  \n",
      "8   0.036481  \n",
      "9   0.037282  \n",
      "10  0.035554  \n",
      "11  0.040667  \n",
      "12  0.042964  \n",
      "13  0.037919  \n",
      "14  0.035554  \n",
      "15  0.035554  \n",
      "16  0.038223  \n",
      "17  0.038223  \n",
      "18  0.037919  \n",
      "19  0.037176  \n",
      "20  0.042824  \n",
      "21  0.039037  \n",
      "22  0.042289  \n",
      "23  0.042289  \n"
     ]
    }
   ],
   "source": [
    "print(test)"
   ]
  },
  {
   "cell_type": "code",
   "execution_count": 24,
   "metadata": {},
   "outputs": [],
   "source": [
    "stateQA = test.loc[:,[3]]"
   ]
  },
  {
   "cell_type": "code",
   "execution_count": 25,
   "metadata": {},
   "outputs": [
    {
     "name": "stdout",
     "output_type": "stream",
     "text": [
      "       3\n",
      "0   8393\n",
      "1   8393\n",
      "2   8393\n",
      "3   8393\n",
      "4   8393\n",
      "5   8393\n",
      "6   8393\n",
      "7   8393\n",
      "8   8393\n",
      "9   8393\n",
      "10  8393\n",
      "11  8393\n",
      "12  8393\n",
      "13  8393\n",
      "14  8393\n",
      "15  8393\n",
      "16  1033\n",
      "17  1033\n",
      "18  8393\n",
      "19  8393\n",
      "20  8393\n",
      "21  8393\n",
      "22  1033\n",
      "23  1033\n"
     ]
    }
   ],
   "source": [
    "print(stateQA)"
   ]
  },
  {
   "cell_type": "code",
   "execution_count": 81,
   "metadata": {},
   "outputs": [],
   "source": [
    "testResult = (stateQAtest(stateQA))"
   ]
  },
  {
   "cell_type": "code",
   "execution_count": 88,
   "metadata": {},
   "outputs": [
    {
     "name": "stdout",
     "output_type": "stream",
     "text": [
      "[        3\n",
      "0   False\n",
      "1   False\n",
      "2   False\n",
      "3   False\n",
      "4   False\n",
      "5   False\n",
      "6   False\n",
      "7   False\n",
      "8   False\n",
      "9   False\n",
      "10  False\n",
      "11  False\n",
      "12  False\n",
      "13  False\n",
      "14  False\n",
      "15  False\n",
      "16  False\n",
      "17  False\n",
      "18  False\n",
      "19  False\n",
      "20  False\n",
      "21  False\n",
      "22  False\n",
      "23  False]\n"
     ]
    }
   ],
   "source": [
    "print(testResult)"
   ]
  },
  {
   "cell_type": "code",
   "execution_count": 95,
   "metadata": {},
   "outputs": [],
   "source": [
    " pandaNP = np.array(modisFileQA)\n",
    "    \n",
    "    indexNP = pandaNP[:24, 3:18]\n",
    "    \n",
    "    topRow = indexNP[9:12, :]\n",
    "    middleRow= indexNP[14:17, :]\n",
    "    bottomRow= indexNP[18:21, :]\n",
    "    \n",
    "    catRows = np.concatenate([topRow, middleRow, bottomRow])\n",
    "    \n",
    "    print(np.mean(topRow))\n",
    "    \n",
    "    print(catRows)"
   ]
  },
  {
   "cell_type": "code",
   "execution_count": null,
   "metadata": {},
   "outputs": [],
   "source": []
  },
  {
   "cell_type": "code",
   "execution_count": 78,
   "metadata": {},
   "outputs": [],
   "source": [
    "# def stateQAtest(QA):\n",
    "#     bit_results = [isLand(QA),\n",
    "#     isnotCloudMOD(QA),\n",
    "#     isnotShadowMOD(QA),\n",
    "#     isAeroLow(QA),\n",
    "#     isnotCirrus(QA),\n",
    "#     isnotCloudINT(QA),\n",
    "#     isnotSnowMOD(QA),\n",
    "#     isnotSnowINT(QA)]\n",
    "    \n",
    "#     row_results = []\n",
    "#     for row in QA[3]:\n",
    "#         bit_results = [isLand(row),\n",
    "#             isnotCloudMOD(row),\n",
    "#             isnotShadowMOD(row),\n",
    "#             isAeroLow(row),\n",
    "#             isnotCirrus(row),\n",
    "#             isnotCloudINT(row),\n",
    "#             isnotSnowMOD(row),\n",
    "#             isnotSnowINT(row)]\n",
    "#         (bit_results)\n",
    "#         row_results.append(all(bit_results))\n",
    "    \n",
    "#     return row_results\n",
    "#     print(bit_results)\n",
    "# NF=9\n",
    "# flag = [0]*9\n",
    "    \n",
    "# for i in range(1, NF):\n",
    "#     flag[0] = flag[0] * flag[i]\n",
    " \n",
    "# if flag[0] == 1:\n",
    "#     pass \n",
    "# else:\n",
    "#     pass \n",
    "    "
   ]
  },
  {
   "cell_type": "code",
   "execution_count": null,
   "metadata": {},
   "outputs": [],
   "source": [
    "# #if it is true put 1 if false put 0\n",
    "\n",
    "# # /* MODIS State QA */\n",
    "# #define NF 9\n",
    "# NF = 9\n",
    "# #define isnotDeepOcean(bits)    ((0x0038 & (bits)) != 0x0038)\n",
    "# #define isnotModOcean(bits)     ((0x0038 & (bits)) != 0x0030)\n",
    "# #define isnotShallowOcean(bits) ((0x0038 & (bits)) != 0)\n",
    "\n",
    "# # flag = 0;\n",
    "# flag = [0] * 9\n",
    "\n",
    "# # yes #define isLand(bits)            ((0x0038 & (bits)) == 0x0008)     flag[0]=1\n",
    "# def isLand(bits):\n",
    "#     flag[0] = 1\n",
    "#     return (bits & 0x0038) == 0x0008\n",
    "# # yes #define isnotCloudMOD(bits)     ((0x0003 & (bits)) == 0)        flag[1]=1\n",
    "# def isnotCloudMOD(bits):\n",
    "#     flag[1] = 1\n",
    "#     return (bits & 0x0003) == 0\n",
    "# # yes #define isnotShadowMOD(bits)    ((0x0004 & (bits)) == 0)     flag[2]=1\n",
    "# def isnotShadowMOD(bits):\n",
    "#     flag[2] = 1\n",
    "#     return (bits & 0x0004) == 0\n",
    "# # #define isAeroClm(bits)         ((0x00c0 & (bits)) == 0)\n",
    "# # yes #define isAeroLow(bits)         ((0x00c0 & (bits)) == 0x0040)\n",
    "# def isAeroLow(bits):\n",
    "#     return (bits & 0x00c0) == 0x0040\n",
    "# # #define isAeroMed(bits)         ((0x00c0 & (bits)) == 0x0080)\n",
    "# # #define isnotAeroHigh(bits)     ((0x00c0 & (bits)) != 0x00c0)\n",
    "# # yes #define isnotCirrus(bits)       ((0x0300 & (bits)) == 0)\n",
    "# def isnotCirrus(bits):\n",
    "#     return (bits & 0x0300) == 0\n",
    "# # yes #define isnotCloudINT(bits)     ((0x0400 & (bits)) == 0)\n",
    "# def isnotCloudINT(bits):\n",
    "#     return (bits & 0x0400) == 0\n",
    "# # yes #define isnotAdjCloud(bits)     ((0x2000 & (bits)) == 0)\n",
    "# def isnotAdjCloud(bits):\n",
    "#     return (bits & 0x2000) == 0\n",
    "# # yes #define isnotSnowMOD(bits)      ((0x8000 & (bits)) == 0)\n",
    "# def isnotSnowMOD(bits):\n",
    "#     return (bits & 0x8000) == 0\n",
    "# # yes #define isnotSnowINT(bits)      ((0x1000 & (bits)) == 0)\n",
    "# def isnotSnowINT(bits):\n",
    "#     return (bits & 0x1000) == 0\n",
    "\n",
    "\n",
    "# # multiples all nine flags and if any of flags is 0 then the result is 0, \n",
    "# #and zero means do not keep the pixel \n",
    "# # for(i=1; i<; i++){\n",
    "# # \tflag[0] = flag[0] * flag[i];  // flag[0] *= flag[i];\n",
    "# # }\n",
    "# for i in range(1, NF):\n",
    "#     flag[0] = flag[0] * flag[i]\n",
    "\n",
    "# # if(flag[0] == 1){ \n",
    "# # \t/* we use this observation set the number to 1 include it in mean computation */\n",
    "# # } else {\n",
    "# #   /* assign 0 to the row */\n",
    "# # }\n",
    "\n",
    "# if flag[0] == 1:\n",
    "#     pass\n",
    "# else:\n",
    "#     pass\n",
    "\n",
    "#make a new coulmn in CSV with the 1 or 0, and that will tell me whether to include that row/pixel "
   ]
  }
 ],
 "metadata": {
  "kernelspec": {
   "display_name": "Python 3",
   "language": "python",
   "name": "python3"
  },
  "language_info": {
   "codemirror_mode": {
    "name": "ipython",
    "version": 3
   },
   "file_extension": ".py",
   "mimetype": "text/x-python",
   "name": "python",
   "nbconvert_exporter": "python",
   "pygments_lexer": "ipython3",
   "version": "3.6.4"
  }
 },
 "nbformat": 4,
 "nbformat_minor": 2
}
