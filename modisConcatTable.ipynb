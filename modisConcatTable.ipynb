{
 "cells": [
  {
   "cell_type": "code",
   "execution_count": 6,
   "metadata": {},
   "outputs": [],
   "source": [
    "import os.path\n",
    "from glob import glob\n",
    "import math\n",
    "import pandas as pd"
   ]
  },
  {
   "cell_type": "code",
   "execution_count": 13,
   "metadata": {},
   "outputs": [],
   "source": [
    "#root = \"/Volumes/SD/radCats/MOD09GA\"\n",
    "\n",
    "root = \"/Volumes/SD/radCats/MYD09GA\""
   ]
  },
  {
   "cell_type": "code",
   "execution_count": 14,
   "metadata": {},
   "outputs": [
    {
     "name": "stdout",
     "output_type": "stream",
     "text": [
      "Files:  2231\n"
     ]
    }
   ],
   "source": [
    "csvFilesQA = glob(os.path.join(root, \"**\", \"*.csv\"), recursive=True)\n",
    "print(\"Files: \", len(csvFilesQA))"
   ]
  },
  {
   "cell_type": "code",
   "execution_count": 15,
   "metadata": {},
   "outputs": [],
   "source": [
    "#row 24 is the mean\n",
    "#row 25 is the min\n",
    "#row 26 is the max\n",
    "#row 27 is the std\n",
    "\n",
    "finalTable = []\n",
    "\n",
    "for csvFileQA in csvFilesQA:\n",
    "    table = pd.read_csv(csvFileQA, header=None)\n",
    "    try:\n",
    "        finalTable.append(table.iloc[24,:])\n",
    "    except:\n",
    "        print(\"File: {} failed: {} lines\".format(csvFileQA,table.shape[0]))\n"
   ]
  },
  {
   "cell_type": "code",
   "execution_count": 16,
   "metadata": {},
   "outputs": [],
   "source": [
    "#Transpose our list of daily means, mins, or maxes so that it is ordered by day\n",
    "output = pd.concat(finalTable, axis=1).T"
   ]
  },
  {
   "cell_type": "code",
   "execution_count": 17,
   "metadata": {},
   "outputs": [
    {
     "data": {
      "text/html": [
       "<div>\n",
       "<style scoped>\n",
       "    .dataframe tbody tr th:only-of-type {\n",
       "        vertical-align: middle;\n",
       "    }\n",
       "\n",
       "    .dataframe tbody tr th {\n",
       "        vertical-align: top;\n",
       "    }\n",
       "\n",
       "    .dataframe thead th {\n",
       "        text-align: right;\n",
       "    }\n",
       "</style>\n",
       "<table border=\"1\" class=\"dataframe\">\n",
       "  <thead>\n",
       "    <tr style=\"text-align: right;\">\n",
       "      <th></th>\n",
       "      <th>0</th>\n",
       "      <th>1</th>\n",
       "      <th>2</th>\n",
       "      <th>3</th>\n",
       "      <th>4</th>\n",
       "      <th>5</th>\n",
       "      <th>6</th>\n",
       "      <th>7</th>\n",
       "      <th>8</th>\n",
       "      <th>9</th>\n",
       "      <th>10</th>\n",
       "      <th>11</th>\n",
       "      <th>12</th>\n",
       "      <th>13</th>\n",
       "      <th>14</th>\n",
       "      <th>15</th>\n",
       "      <th>16</th>\n",
       "      <th>17</th>\n",
       "      <th>18</th>\n",
       "    </tr>\n",
       "  </thead>\n",
       "  <tbody>\n",
       "    <tr>\n",
       "      <th>24</th>\n",
       "      <td>MYD09GA.A2012001.h08v05.006.2015230044132</td>\n",
       "      <td>NaN</td>\n",
       "      <td>NaN</td>\n",
       "      <td>1850.78</td>\n",
       "      <td>5015.33</td>\n",
       "      <td>-9586.33</td>\n",
       "      <td>6567.67</td>\n",
       "      <td>-15512</td>\n",
       "      <td>4670.44</td>\n",
       "      <td>5125.33</td>\n",
       "      <td>3204.44</td>\n",
       "      <td>4274.67</td>\n",
       "      <td>4899.56</td>\n",
       "      <td>-28672</td>\n",
       "      <td>4379.67</td>\n",
       "      <td>0.0464571</td>\n",
       "      <td>0.714075</td>\n",
       "      <td>0.0431956</td>\n",
       "      <td>NaN</td>\n",
       "    </tr>\n",
       "    <tr>\n",
       "      <th>24</th>\n",
       "      <td>MYD09GA.A2012002.h08v05.006.2015230012117</td>\n",
       "      <td>NaN</td>\n",
       "      <td>NaN</td>\n",
       "      <td>1110.67</td>\n",
       "      <td>3712.78</td>\n",
       "      <td>7629.44</td>\n",
       "      <td>6223.11</td>\n",
       "      <td>-16882.7</td>\n",
       "      <td>3292.11</td>\n",
       "      <td>3793.22</td>\n",
       "      <td>1674.33</td>\n",
       "      <td>2809.89</td>\n",
       "      <td>3766.44</td>\n",
       "      <td>-28672</td>\n",
       "      <td>3571.33</td>\n",
       "      <td>0.070685</td>\n",
       "      <td>0.027155</td>\n",
       "      <td>0.0577026</td>\n",
       "      <td>NaN</td>\n",
       "    </tr>\n",
       "    <tr>\n",
       "      <th>24</th>\n",
       "      <td>MYD09GA.A2012003.h08v05.006.2015230053908</td>\n",
       "      <td>NaN</td>\n",
       "      <td>NaN</td>\n",
       "      <td>5661.33</td>\n",
       "      <td>3590.56</td>\n",
       "      <td>-9767.67</td>\n",
       "      <td>6449.22</td>\n",
       "      <td>-15820.6</td>\n",
       "      <td>4143.56</td>\n",
       "      <td>4523.89</td>\n",
       "      <td>2204.67</td>\n",
       "      <td>3675.44</td>\n",
       "      <td>4307.22</td>\n",
       "      <td>-13820.9</td>\n",
       "      <td>4065.89</td>\n",
       "      <td>0.0438664</td>\n",
       "      <td>0.0170042</td>\n",
       "      <td>0.0388418</td>\n",
       "      <td>NaN</td>\n",
       "    </tr>\n",
       "    <tr>\n",
       "      <th>24</th>\n",
       "      <td>MYD09GA.A2012004.h08v05.006.2015230051353</td>\n",
       "      <td>NaN</td>\n",
       "      <td>NaN</td>\n",
       "      <td>7481.78</td>\n",
       "      <td>5060.89</td>\n",
       "      <td>7420.22</td>\n",
       "      <td>6161.44</td>\n",
       "      <td>-17218.7</td>\n",
       "      <td>3183.11</td>\n",
       "      <td>3683.78</td>\n",
       "      <td>1661.33</td>\n",
       "      <td>2727.67</td>\n",
       "      <td>3687.67</td>\n",
       "      <td>4090.33</td>\n",
       "      <td>3574.78</td>\n",
       "      <td>0.0729097</td>\n",
       "      <td>0.0276612</td>\n",
       "      <td>0.0586827</td>\n",
       "      <td>NaN</td>\n",
       "    </tr>\n",
       "    <tr>\n",
       "      <th>24</th>\n",
       "      <td>MYD09GA.A2012005.h08v05.006.2015230070342</td>\n",
       "      <td>NaN</td>\n",
       "      <td>NaN</td>\n",
       "      <td>6666</td>\n",
       "      <td>1627</td>\n",
       "      <td>-9973.89</td>\n",
       "      <td>6340.33</td>\n",
       "      <td>-16136.1</td>\n",
       "      <td>3956.22</td>\n",
       "      <td>4311</td>\n",
       "      <td>2030.67</td>\n",
       "      <td>3490.11</td>\n",
       "      <td>4050.11</td>\n",
       "      <td>4397.44</td>\n",
       "      <td>3814.56</td>\n",
       "      <td>0.0429009</td>\n",
       "      <td>0.0166408</td>\n",
       "      <td>0.0372416</td>\n",
       "      <td>NaN</td>\n",
       "    </tr>\n",
       "  </tbody>\n",
       "</table>\n",
       "</div>"
      ],
      "text/plain": [
       "                                           0    1    2        3        4   \\\n",
       "24  MYD09GA.A2012001.h08v05.006.2015230044132  NaN  NaN  1850.78  5015.33   \n",
       "24  MYD09GA.A2012002.h08v05.006.2015230012117  NaN  NaN  1110.67  3712.78   \n",
       "24  MYD09GA.A2012003.h08v05.006.2015230053908  NaN  NaN  5661.33  3590.56   \n",
       "24  MYD09GA.A2012004.h08v05.006.2015230051353  NaN  NaN  7481.78  5060.89   \n",
       "24  MYD09GA.A2012005.h08v05.006.2015230070342  NaN  NaN     6666     1627   \n",
       "\n",
       "         5        6        7        8        9        10       11       12  \\\n",
       "24 -9586.33  6567.67   -15512  4670.44  5125.33  3204.44  4274.67  4899.56   \n",
       "24  7629.44  6223.11 -16882.7  3292.11  3793.22  1674.33  2809.89  3766.44   \n",
       "24 -9767.67  6449.22 -15820.6  4143.56  4523.89  2204.67  3675.44  4307.22   \n",
       "24  7420.22  6161.44 -17218.7  3183.11  3683.78  1661.33  2727.67  3687.67   \n",
       "24 -9973.89  6340.33 -16136.1  3956.22     4311  2030.67  3490.11  4050.11   \n",
       "\n",
       "         13       14         15         16         17   18  \n",
       "24   -28672  4379.67  0.0464571   0.714075  0.0431956  NaN  \n",
       "24   -28672  3571.33   0.070685   0.027155  0.0577026  NaN  \n",
       "24 -13820.9  4065.89  0.0438664  0.0170042  0.0388418  NaN  \n",
       "24  4090.33  3574.78  0.0729097  0.0276612  0.0586827  NaN  \n",
       "24  4397.44  3814.56  0.0429009  0.0166408  0.0372416  NaN  "
      ]
     },
     "execution_count": 17,
     "metadata": {},
     "output_type": "execute_result"
    }
   ],
   "source": [
    "#Check to make sure the table looks okay\n",
    "output.head()"
   ]
  },
  {
   "cell_type": "code",
   "execution_count": 18,
   "metadata": {},
   "outputs": [],
   "source": [
    "#output.to_csv(\"/Volumes/SD/MOD09GAtestRadMean.csv\", index=False, header=False)\n",
    "output.to_csv(\"/Volumes/SD/MYD09GAtestRadMean.csv\", index=False, header=False)"
   ]
  },
  {
   "cell_type": "code",
   "execution_count": null,
   "metadata": {},
   "outputs": [],
   "source": [
    "output.to_csv(\"/Volumes/SD/MOD09GAtestRadMin.csv\", index=False, header=False)\n",
    "#output.to_csv(\"/Volumes/SD/MYD09GAtestRadMin.csv\", index=False, header=False)"
   ]
  },
  {
   "cell_type": "code",
   "execution_count": null,
   "metadata": {},
   "outputs": [],
   "source": [
    "output.to_csv(\"/Volumes/SD/MOD09GAtestRadMax.csv\", index=False, header=False)\n",
    "#output.to_csv(\"/Volumes/SD/MYD09GAtestRadMax.csv\", index=False, header=False)"
   ]
  },
  {
   "cell_type": "code",
   "execution_count": null,
   "metadata": {},
   "outputs": [],
   "source": [
    "output.to_csv(\"/Volumes/SD/MOD09GAtestRadStd.csv\", index=False, header=False)\n",
    "#output.to_csv(\"/Volumes/SD/MYD09GAtestRadStd.csv\", index=False, header=False)"
   ]
  }
 ],
 "metadata": {
  "kernelspec": {
   "display_name": "Python 3",
   "language": "python",
   "name": "python3"
  },
  "language_info": {
   "codemirror_mode": {
    "name": "ipython",
    "version": 3
   },
   "file_extension": ".py",
   "mimetype": "text/x-python",
   "name": "python",
   "nbconvert_exporter": "python",
   "pygments_lexer": "ipython3",
   "version": "3.6.4"
  }
 },
 "nbformat": 4,
 "nbformat_minor": 2
}
